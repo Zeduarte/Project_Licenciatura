{
  "cells": [
    {
      "cell_type": "code",
      "source": [
        "!pip install alibi[tensorflow]"
      ],
      "metadata": {
        "colab": {
          "base_uri": "https://localhost:8080/"
        },
        "id": "QQX7s6ftxjQS",
        "outputId": "722852c8-ac95-4321-9bb1-adda8ea8564e"
      },
      "execution_count": null,
      "outputs": [
        {
          "output_type": "stream",
          "name": "stdout",
          "text": [
            "Requirement already satisfied: alibi[tensorflow] in /usr/local/lib/python3.10/dist-packages (0.9.6)\n",
            "Requirement already satisfied: numpy<2.0.0,>=1.16.2 in /usr/local/lib/python3.10/dist-packages (from alibi[tensorflow]) (1.25.2)\n",
            "Requirement already satisfied: pandas<3.0.0,>=1.0.0 in /usr/local/lib/python3.10/dist-packages (from alibi[tensorflow]) (2.0.3)\n",
            "Requirement already satisfied: scikit-learn<2.0.0,>=1.0.0 in /usr/local/lib/python3.10/dist-packages (from alibi[tensorflow]) (1.2.2)\n",
            "Requirement already satisfied: spacy[lookups]<4.0.0,>=2.0.0 in /usr/local/lib/python3.10/dist-packages (from alibi[tensorflow]) (3.7.4)\n",
            "Requirement already satisfied: blis<0.8.0 in /usr/local/lib/python3.10/dist-packages (from alibi[tensorflow]) (0.7.11)\n",
            "Requirement already satisfied: scikit-image<0.23,>=0.17.2 in /usr/local/lib/python3.10/dist-packages (from alibi[tensorflow]) (0.19.3)\n",
            "Requirement already satisfied: requests<3.0.0,>=2.21.0 in /usr/local/lib/python3.10/dist-packages (from alibi[tensorflow]) (2.31.0)\n",
            "Requirement already satisfied: Pillow<11.0,>=5.4.1 in /usr/local/lib/python3.10/dist-packages (from alibi[tensorflow]) (9.4.0)\n",
            "Requirement already satisfied: attrs<24.0.0,>=19.2.0 in /usr/local/lib/python3.10/dist-packages (from alibi[tensorflow]) (23.2.0)\n",
            "Requirement already satisfied: scipy<2.0.0,>=1.1.0 in /usr/local/lib/python3.10/dist-packages (from alibi[tensorflow]) (1.11.4)\n",
            "Requirement already satisfied: matplotlib<4.0.0,>=3.0.0 in /usr/local/lib/python3.10/dist-packages (from alibi[tensorflow]) (3.7.1)\n",
            "Requirement already satisfied: typing-extensions>=3.7.4.3 in /usr/local/lib/python3.10/dist-packages (from alibi[tensorflow]) (4.11.0)\n",
            "Requirement already satisfied: dill<0.4.0,>=0.3.0 in /usr/local/lib/python3.10/dist-packages (from alibi[tensorflow]) (0.3.8)\n",
            "Requirement already satisfied: transformers<5.0.0,>=4.7.0 in /usr/local/lib/python3.10/dist-packages (from alibi[tensorflow]) (4.40.1)\n",
            "Requirement already satisfied: tqdm<5.0.0,>=4.28.1 in /usr/local/lib/python3.10/dist-packages (from alibi[tensorflow]) (4.66.4)\n",
            "Requirement already satisfied: tensorflow!=2.6.0,!=2.6.1,<2.15.0,>=2.0.0 in /usr/local/lib/python3.10/dist-packages (from alibi[tensorflow]) (2.14.1)\n",
            "Requirement already satisfied: contourpy>=1.0.1 in /usr/local/lib/python3.10/dist-packages (from matplotlib<4.0.0,>=3.0.0->alibi[tensorflow]) (1.2.1)\n",
            "Requirement already satisfied: cycler>=0.10 in /usr/local/lib/python3.10/dist-packages (from matplotlib<4.0.0,>=3.0.0->alibi[tensorflow]) (0.12.1)\n",
            "Requirement already satisfied: fonttools>=4.22.0 in /usr/local/lib/python3.10/dist-packages (from matplotlib<4.0.0,>=3.0.0->alibi[tensorflow]) (4.51.0)\n",
            "Requirement already satisfied: kiwisolver>=1.0.1 in /usr/local/lib/python3.10/dist-packages (from matplotlib<4.0.0,>=3.0.0->alibi[tensorflow]) (1.4.5)\n",
            "Requirement already satisfied: packaging>=20.0 in /usr/local/lib/python3.10/dist-packages (from matplotlib<4.0.0,>=3.0.0->alibi[tensorflow]) (24.0)\n",
            "Requirement already satisfied: pyparsing>=2.3.1 in /usr/local/lib/python3.10/dist-packages (from matplotlib<4.0.0,>=3.0.0->alibi[tensorflow]) (3.1.2)\n",
            "Requirement already satisfied: python-dateutil>=2.7 in /usr/local/lib/python3.10/dist-packages (from matplotlib<4.0.0,>=3.0.0->alibi[tensorflow]) (2.8.2)\n",
            "Requirement already satisfied: pytz>=2020.1 in /usr/local/lib/python3.10/dist-packages (from pandas<3.0.0,>=1.0.0->alibi[tensorflow]) (2023.4)\n",
            "Requirement already satisfied: tzdata>=2022.1 in /usr/local/lib/python3.10/dist-packages (from pandas<3.0.0,>=1.0.0->alibi[tensorflow]) (2024.1)\n",
            "Requirement already satisfied: charset-normalizer<4,>=2 in /usr/local/lib/python3.10/dist-packages (from requests<3.0.0,>=2.21.0->alibi[tensorflow]) (3.3.2)\n",
            "Requirement already satisfied: idna<4,>=2.5 in /usr/local/lib/python3.10/dist-packages (from requests<3.0.0,>=2.21.0->alibi[tensorflow]) (3.7)\n",
            "Requirement already satisfied: urllib3<3,>=1.21.1 in /usr/local/lib/python3.10/dist-packages (from requests<3.0.0,>=2.21.0->alibi[tensorflow]) (2.0.7)\n",
            "Requirement already satisfied: certifi>=2017.4.17 in /usr/local/lib/python3.10/dist-packages (from requests<3.0.0,>=2.21.0->alibi[tensorflow]) (2024.2.2)\n",
            "Requirement already satisfied: networkx>=2.2 in /usr/local/lib/python3.10/dist-packages (from scikit-image<0.23,>=0.17.2->alibi[tensorflow]) (3.3)\n",
            "Requirement already satisfied: imageio>=2.4.1 in /usr/local/lib/python3.10/dist-packages (from scikit-image<0.23,>=0.17.2->alibi[tensorflow]) (2.31.6)\n",
            "Requirement already satisfied: tifffile>=2019.7.26 in /usr/local/lib/python3.10/dist-packages (from scikit-image<0.23,>=0.17.2->alibi[tensorflow]) (2024.4.24)\n",
            "Requirement already satisfied: PyWavelets>=1.1.1 in /usr/local/lib/python3.10/dist-packages (from scikit-image<0.23,>=0.17.2->alibi[tensorflow]) (1.6.0)\n",
            "Requirement already satisfied: joblib>=1.1.1 in /usr/local/lib/python3.10/dist-packages (from scikit-learn<2.0.0,>=1.0.0->alibi[tensorflow]) (1.4.2)\n",
            "Requirement already satisfied: threadpoolctl>=2.0.0 in /usr/local/lib/python3.10/dist-packages (from scikit-learn<2.0.0,>=1.0.0->alibi[tensorflow]) (3.5.0)\n",
            "Requirement already satisfied: spacy-legacy<3.1.0,>=3.0.11 in /usr/local/lib/python3.10/dist-packages (from spacy[lookups]<4.0.0,>=2.0.0->alibi[tensorflow]) (3.0.12)\n",
            "Requirement already satisfied: spacy-loggers<2.0.0,>=1.0.0 in /usr/local/lib/python3.10/dist-packages (from spacy[lookups]<4.0.0,>=2.0.0->alibi[tensorflow]) (1.0.5)\n",
            "Requirement already satisfied: murmurhash<1.1.0,>=0.28.0 in /usr/local/lib/python3.10/dist-packages (from spacy[lookups]<4.0.0,>=2.0.0->alibi[tensorflow]) (1.0.10)\n",
            "Requirement already satisfied: cymem<2.1.0,>=2.0.2 in /usr/local/lib/python3.10/dist-packages (from spacy[lookups]<4.0.0,>=2.0.0->alibi[tensorflow]) (2.0.8)\n",
            "Requirement already satisfied: preshed<3.1.0,>=3.0.2 in /usr/local/lib/python3.10/dist-packages (from spacy[lookups]<4.0.0,>=2.0.0->alibi[tensorflow]) (3.0.9)\n",
            "Requirement already satisfied: thinc<8.3.0,>=8.2.2 in /usr/local/lib/python3.10/dist-packages (from spacy[lookups]<4.0.0,>=2.0.0->alibi[tensorflow]) (8.2.3)\n",
            "Requirement already satisfied: wasabi<1.2.0,>=0.9.1 in /usr/local/lib/python3.10/dist-packages (from spacy[lookups]<4.0.0,>=2.0.0->alibi[tensorflow]) (1.1.2)\n",
            "Requirement already satisfied: srsly<3.0.0,>=2.4.3 in /usr/local/lib/python3.10/dist-packages (from spacy[lookups]<4.0.0,>=2.0.0->alibi[tensorflow]) (2.4.8)\n",
            "Requirement already satisfied: catalogue<2.1.0,>=2.0.6 in /usr/local/lib/python3.10/dist-packages (from spacy[lookups]<4.0.0,>=2.0.0->alibi[tensorflow]) (2.0.10)\n",
            "Requirement already satisfied: weasel<0.4.0,>=0.1.0 in /usr/local/lib/python3.10/dist-packages (from spacy[lookups]<4.0.0,>=2.0.0->alibi[tensorflow]) (0.3.4)\n",
            "Requirement already satisfied: typer<0.10.0,>=0.3.0 in /usr/local/lib/python3.10/dist-packages (from spacy[lookups]<4.0.0,>=2.0.0->alibi[tensorflow]) (0.9.4)\n",
            "Requirement already satisfied: smart-open<7.0.0,>=5.2.1 in /usr/local/lib/python3.10/dist-packages (from spacy[lookups]<4.0.0,>=2.0.0->alibi[tensorflow]) (6.4.0)\n",
            "Requirement already satisfied: pydantic!=1.8,!=1.8.1,<3.0.0,>=1.7.4 in /usr/local/lib/python3.10/dist-packages (from spacy[lookups]<4.0.0,>=2.0.0->alibi[tensorflow]) (2.7.1)\n",
            "Requirement already satisfied: jinja2 in /usr/local/lib/python3.10/dist-packages (from spacy[lookups]<4.0.0,>=2.0.0->alibi[tensorflow]) (3.1.3)\n",
            "Requirement already satisfied: setuptools in /usr/local/lib/python3.10/dist-packages (from spacy[lookups]<4.0.0,>=2.0.0->alibi[tensorflow]) (67.7.2)\n",
            "Requirement already satisfied: langcodes<4.0.0,>=3.2.0 in /usr/local/lib/python3.10/dist-packages (from spacy[lookups]<4.0.0,>=2.0.0->alibi[tensorflow]) (3.4.0)\n",
            "Requirement already satisfied: spacy-lookups-data<1.1.0,>=1.0.3 in /usr/local/lib/python3.10/dist-packages (from spacy[lookups]<4.0.0,>=2.0.0->alibi[tensorflow]) (1.0.5)\n",
            "Requirement already satisfied: absl-py>=1.0.0 in /usr/local/lib/python3.10/dist-packages (from tensorflow!=2.6.0,!=2.6.1,<2.15.0,>=2.0.0->alibi[tensorflow]) (1.4.0)\n",
            "Requirement already satisfied: astunparse>=1.6.0 in /usr/local/lib/python3.10/dist-packages (from tensorflow!=2.6.0,!=2.6.1,<2.15.0,>=2.0.0->alibi[tensorflow]) (1.6.3)\n",
            "Requirement already satisfied: flatbuffers>=23.5.26 in /usr/local/lib/python3.10/dist-packages (from tensorflow!=2.6.0,!=2.6.1,<2.15.0,>=2.0.0->alibi[tensorflow]) (24.3.25)\n",
            "Requirement already satisfied: gast!=0.5.0,!=0.5.1,!=0.5.2,>=0.2.1 in /usr/local/lib/python3.10/dist-packages (from tensorflow!=2.6.0,!=2.6.1,<2.15.0,>=2.0.0->alibi[tensorflow]) (0.5.4)\n",
            "Requirement already satisfied: google-pasta>=0.1.1 in /usr/local/lib/python3.10/dist-packages (from tensorflow!=2.6.0,!=2.6.1,<2.15.0,>=2.0.0->alibi[tensorflow]) (0.2.0)\n",
            "Requirement already satisfied: h5py>=2.9.0 in /usr/local/lib/python3.10/dist-packages (from tensorflow!=2.6.0,!=2.6.1,<2.15.0,>=2.0.0->alibi[tensorflow]) (3.9.0)\n",
            "Requirement already satisfied: libclang>=13.0.0 in /usr/local/lib/python3.10/dist-packages (from tensorflow!=2.6.0,!=2.6.1,<2.15.0,>=2.0.0->alibi[tensorflow]) (18.1.1)\n",
            "Requirement already satisfied: ml-dtypes==0.2.0 in /usr/local/lib/python3.10/dist-packages (from tensorflow!=2.6.0,!=2.6.1,<2.15.0,>=2.0.0->alibi[tensorflow]) (0.2.0)\n",
            "Requirement already satisfied: opt-einsum>=2.3.2 in /usr/local/lib/python3.10/dist-packages (from tensorflow!=2.6.0,!=2.6.1,<2.15.0,>=2.0.0->alibi[tensorflow]) (3.3.0)\n",
            "Requirement already satisfied: protobuf!=4.21.0,!=4.21.1,!=4.21.2,!=4.21.3,!=4.21.4,!=4.21.5,<5.0.0dev,>=3.20.3 in /usr/local/lib/python3.10/dist-packages (from tensorflow!=2.6.0,!=2.6.1,<2.15.0,>=2.0.0->alibi[tensorflow]) (3.20.3)\n",
            "Requirement already satisfied: six>=1.12.0 in /usr/local/lib/python3.10/dist-packages (from tensorflow!=2.6.0,!=2.6.1,<2.15.0,>=2.0.0->alibi[tensorflow]) (1.16.0)\n",
            "Requirement already satisfied: termcolor>=1.1.0 in /usr/local/lib/python3.10/dist-packages (from tensorflow!=2.6.0,!=2.6.1,<2.15.0,>=2.0.0->alibi[tensorflow]) (2.4.0)\n",
            "Requirement already satisfied: wrapt<1.15,>=1.11.0 in /usr/local/lib/python3.10/dist-packages (from tensorflow!=2.6.0,!=2.6.1,<2.15.0,>=2.0.0->alibi[tensorflow]) (1.14.1)\n",
            "Requirement already satisfied: tensorflow-io-gcs-filesystem>=0.23.1 in /usr/local/lib/python3.10/dist-packages (from tensorflow!=2.6.0,!=2.6.1,<2.15.0,>=2.0.0->alibi[tensorflow]) (0.37.0)\n",
            "Requirement already satisfied: grpcio<2.0,>=1.24.3 in /usr/local/lib/python3.10/dist-packages (from tensorflow!=2.6.0,!=2.6.1,<2.15.0,>=2.0.0->alibi[tensorflow]) (1.63.0)\n",
            "Requirement already satisfied: tensorboard<2.15,>=2.14 in /usr/local/lib/python3.10/dist-packages (from tensorflow!=2.6.0,!=2.6.1,<2.15.0,>=2.0.0->alibi[tensorflow]) (2.14.1)\n",
            "Requirement already satisfied: tensorflow-estimator<2.15,>=2.14.0 in /usr/local/lib/python3.10/dist-packages (from tensorflow!=2.6.0,!=2.6.1,<2.15.0,>=2.0.0->alibi[tensorflow]) (2.14.0)\n",
            "Requirement already satisfied: keras<2.15,>=2.14.0 in /usr/local/lib/python3.10/dist-packages (from tensorflow!=2.6.0,!=2.6.1,<2.15.0,>=2.0.0->alibi[tensorflow]) (2.14.0)\n",
            "Requirement already satisfied: filelock in /usr/local/lib/python3.10/dist-packages (from transformers<5.0.0,>=4.7.0->alibi[tensorflow]) (3.14.0)\n",
            "Requirement already satisfied: huggingface-hub<1.0,>=0.19.3 in /usr/local/lib/python3.10/dist-packages (from transformers<5.0.0,>=4.7.0->alibi[tensorflow]) (0.20.3)\n",
            "Requirement already satisfied: pyyaml>=5.1 in /usr/local/lib/python3.10/dist-packages (from transformers<5.0.0,>=4.7.0->alibi[tensorflow]) (6.0.1)\n",
            "Requirement already satisfied: regex!=2019.12.17 in /usr/local/lib/python3.10/dist-packages (from transformers<5.0.0,>=4.7.0->alibi[tensorflow]) (2023.12.25)\n",
            "Requirement already satisfied: tokenizers<0.20,>=0.19 in /usr/local/lib/python3.10/dist-packages (from transformers<5.0.0,>=4.7.0->alibi[tensorflow]) (0.19.1)\n",
            "Requirement already satisfied: safetensors>=0.4.1 in /usr/local/lib/python3.10/dist-packages (from transformers<5.0.0,>=4.7.0->alibi[tensorflow]) (0.4.3)\n",
            "Requirement already satisfied: wheel<1.0,>=0.23.0 in /usr/local/lib/python3.10/dist-packages (from astunparse>=1.6.0->tensorflow!=2.6.0,!=2.6.1,<2.15.0,>=2.0.0->alibi[tensorflow]) (0.43.0)\n",
            "Requirement already satisfied: fsspec>=2023.5.0 in /usr/local/lib/python3.10/dist-packages (from huggingface-hub<1.0,>=0.19.3->transformers<5.0.0,>=4.7.0->alibi[tensorflow]) (2023.6.0)\n",
            "Requirement already satisfied: language-data>=1.2 in /usr/local/lib/python3.10/dist-packages (from langcodes<4.0.0,>=3.2.0->spacy[lookups]<4.0.0,>=2.0.0->alibi[tensorflow]) (1.2.0)\n",
            "Requirement already satisfied: annotated-types>=0.4.0 in /usr/local/lib/python3.10/dist-packages (from pydantic!=1.8,!=1.8.1,<3.0.0,>=1.7.4->spacy[lookups]<4.0.0,>=2.0.0->alibi[tensorflow]) (0.6.0)\n",
            "Requirement already satisfied: pydantic-core==2.18.2 in /usr/local/lib/python3.10/dist-packages (from pydantic!=1.8,!=1.8.1,<3.0.0,>=1.7.4->spacy[lookups]<4.0.0,>=2.0.0->alibi[tensorflow]) (2.18.2)\n",
            "Requirement already satisfied: google-auth<3,>=1.6.3 in /usr/local/lib/python3.10/dist-packages (from tensorboard<2.15,>=2.14->tensorflow!=2.6.0,!=2.6.1,<2.15.0,>=2.0.0->alibi[tensorflow]) (2.27.0)\n",
            "Requirement already satisfied: google-auth-oauthlib<1.1,>=0.5 in /usr/local/lib/python3.10/dist-packages (from tensorboard<2.15,>=2.14->tensorflow!=2.6.0,!=2.6.1,<2.15.0,>=2.0.0->alibi[tensorflow]) (1.0.0)\n",
            "Requirement already satisfied: markdown>=2.6.8 in /usr/local/lib/python3.10/dist-packages (from tensorboard<2.15,>=2.14->tensorflow!=2.6.0,!=2.6.1,<2.15.0,>=2.0.0->alibi[tensorflow]) (3.6)\n",
            "Requirement already satisfied: tensorboard-data-server<0.8.0,>=0.7.0 in /usr/local/lib/python3.10/dist-packages (from tensorboard<2.15,>=2.14->tensorflow!=2.6.0,!=2.6.1,<2.15.0,>=2.0.0->alibi[tensorflow]) (0.7.2)\n",
            "Requirement already satisfied: werkzeug>=1.0.1 in /usr/local/lib/python3.10/dist-packages (from tensorboard<2.15,>=2.14->tensorflow!=2.6.0,!=2.6.1,<2.15.0,>=2.0.0->alibi[tensorflow]) (3.0.2)\n",
            "Requirement already satisfied: confection<1.0.0,>=0.0.1 in /usr/local/lib/python3.10/dist-packages (from thinc<8.3.0,>=8.2.2->spacy[lookups]<4.0.0,>=2.0.0->alibi[tensorflow]) (0.1.4)\n",
            "Requirement already satisfied: click<9.0.0,>=7.1.1 in /usr/local/lib/python3.10/dist-packages (from typer<0.10.0,>=0.3.0->spacy[lookups]<4.0.0,>=2.0.0->alibi[tensorflow]) (8.1.7)\n",
            "Requirement already satisfied: cloudpathlib<0.17.0,>=0.7.0 in /usr/local/lib/python3.10/dist-packages (from weasel<0.4.0,>=0.1.0->spacy[lookups]<4.0.0,>=2.0.0->alibi[tensorflow]) (0.16.0)\n",
            "Requirement already satisfied: MarkupSafe>=2.0 in /usr/local/lib/python3.10/dist-packages (from jinja2->spacy[lookups]<4.0.0,>=2.0.0->alibi[tensorflow]) (2.1.5)\n",
            "Requirement already satisfied: cachetools<6.0,>=2.0.0 in /usr/local/lib/python3.10/dist-packages (from google-auth<3,>=1.6.3->tensorboard<2.15,>=2.14->tensorflow!=2.6.0,!=2.6.1,<2.15.0,>=2.0.0->alibi[tensorflow]) (5.3.3)\n",
            "Requirement already satisfied: pyasn1-modules>=0.2.1 in /usr/local/lib/python3.10/dist-packages (from google-auth<3,>=1.6.3->tensorboard<2.15,>=2.14->tensorflow!=2.6.0,!=2.6.1,<2.15.0,>=2.0.0->alibi[tensorflow]) (0.4.0)\n",
            "Requirement already satisfied: rsa<5,>=3.1.4 in /usr/local/lib/python3.10/dist-packages (from google-auth<3,>=1.6.3->tensorboard<2.15,>=2.14->tensorflow!=2.6.0,!=2.6.1,<2.15.0,>=2.0.0->alibi[tensorflow]) (4.9)\n",
            "Requirement already satisfied: requests-oauthlib>=0.7.0 in /usr/local/lib/python3.10/dist-packages (from google-auth-oauthlib<1.1,>=0.5->tensorboard<2.15,>=2.14->tensorflow!=2.6.0,!=2.6.1,<2.15.0,>=2.0.0->alibi[tensorflow]) (1.3.1)\n",
            "Requirement already satisfied: marisa-trie>=0.7.7 in /usr/local/lib/python3.10/dist-packages (from language-data>=1.2->langcodes<4.0.0,>=3.2.0->spacy[lookups]<4.0.0,>=2.0.0->alibi[tensorflow]) (1.1.0)\n",
            "Requirement already satisfied: pyasn1<0.7.0,>=0.4.6 in /usr/local/lib/python3.10/dist-packages (from pyasn1-modules>=0.2.1->google-auth<3,>=1.6.3->tensorboard<2.15,>=2.14->tensorflow!=2.6.0,!=2.6.1,<2.15.0,>=2.0.0->alibi[tensorflow]) (0.6.0)\n",
            "Requirement already satisfied: oauthlib>=3.0.0 in /usr/local/lib/python3.10/dist-packages (from requests-oauthlib>=0.7.0->google-auth-oauthlib<1.1,>=0.5->tensorboard<2.15,>=2.14->tensorflow!=2.6.0,!=2.6.1,<2.15.0,>=2.0.0->alibi[tensorflow]) (3.2.2)\n"
          ]
        }
      ]
    },
    {
      "cell_type": "code",
      "execution_count": 1,
      "metadata": {
        "colab": {
          "base_uri": "https://localhost:8080/"
        },
        "id": "zU4nlIoBlCsm",
        "outputId": "a1cffa78-acc8-4d31-b3b1-b75e2d2766de"
      },
      "outputs": [
        {
          "output_type": "stream",
          "name": "stdout",
          "text": [
            "Mounted at /content/drive\n"
          ]
        }
      ],
      "source": [
        "from google.colab import drive\n",
        "drive.mount('/content/drive')"
      ]
    },
    {
      "cell_type": "code",
      "execution_count": 2,
      "metadata": {
        "id": "AjHbCGxyldsP"
      },
      "outputs": [],
      "source": [
        "train_set='/content/data/train'\n",
        "val_set='/content/data/val'\n",
        "test_set='/content/data/test'"
      ]
    },
    {
      "cell_type": "code",
      "execution_count": 3,
      "metadata": {
        "id": "ew3UsSdnluVl"
      },
      "outputs": [],
      "source": [
        "import tensorflow as tf\n",
        "import numpy as np\n",
        "import matplotlib.pyplot as plt\n",
        "from tensorflow.keras.layers import *\n",
        "from tensorflow.keras.models import *\n",
        "from tensorflow.keras.preprocessing import image\n",
        "from sklearn.metrics import accuracy_score\n"
      ]
    },
    {
      "cell_type": "code",
      "execution_count": 4,
      "metadata": {
        "id": "pkA6cP6xlvcd"
      },
      "outputs": [],
      "source": [
        "import zipfile\n",
        "import os\n",
        "path_to_zip_file = '/content/drive/MyDrive/[02] UTAD/[01] 2023_2024/[04] Artigo HCIST/dataset_kvasir_caps_HCIST.zip'\n",
        "directory_to_extract_to = '/content/data'\n",
        "with zipfile.ZipFile(path_to_zip_file, 'r') as zip_ref:\n",
        "    zip_ref.extractall(directory_to_extract_to)"
      ]
    },
    {
      "cell_type": "code",
      "execution_count": 5,
      "metadata": {
        "id": "TTtU0P6_ldpz"
      },
      "outputs": [],
      "source": [
        "train_datagen = image.ImageDataGenerator(\n",
        "    rotation_range=15,\n",
        "    shear_range=0.2,\n",
        "    zoom_range=0.2,\n",
        "    horizontal_flip=True,\n",
        "    width_shift_range=0.1,\n",
        "    height_shift_range=0.1\n",
        ")\n",
        "validation_datagen= image.ImageDataGenerator(    rotation_range=15,\n",
        "    shear_range=0.2,\n",
        "    zoom_range=0.2,\n",
        "    horizontal_flip=True,\n",
        "    width_shift_range=0.1,\n",
        "    height_shift_range=0.1)\n",
        "test_datagen= image.ImageDataGenerator(    rotation_range=15,\n",
        "    shear_range=0.2,\n",
        "    zoom_range=0.2,\n",
        "    horizontal_flip=True,\n",
        "    width_shift_range=0.1,\n",
        "    height_shift_range=0.1)"
      ]
    },
    {
      "cell_type": "code",
      "execution_count": 6,
      "metadata": {
        "colab": {
          "base_uri": "https://localhost:8080/"
        },
        "id": "un3-glF3ldm8",
        "outputId": "84b927c4-3c08-4fcd-c352-49711dd5eeae"
      },
      "outputs": [
        {
          "output_type": "stream",
          "name": "stdout",
          "text": [
            "Found 1600 images belonging to 2 classes.\n",
            "Found 1000 images belonging to 2 classes.\n",
            "Found 400 images belonging to 2 classes.\n"
          ]
        }
      ],
      "source": [
        "\n",
        "train_generator = train_datagen.flow_from_directory(\n",
        "    train_set,\n",
        "    target_size = (224,224),\n",
        "    batch_size = 16,\n",
        "    shuffle=True,\n",
        "    class_mode = 'categorical')\n",
        "validation_generator = validation_datagen.flow_from_directory(\n",
        "    val_set,\n",
        "    target_size = (224,224),\n",
        "    batch_size = 16,\n",
        "    shuffle=True,\n",
        "    class_mode = 'categorical')\n",
        "test_generator = test_datagen.flow_from_directory(\n",
        "    test_set,\n",
        "    target_size = (224,224),\n",
        "    batch_size = 16,\n",
        "    shuffle = False,\n",
        "    class_mode = 'categorical')"
      ]
    },
    {
      "cell_type": "code",
      "execution_count": 7,
      "metadata": {
        "colab": {
          "base_uri": "https://localhost:8080/"
        },
        "id": "U4SGcCBaldkI",
        "outputId": "0e8b7ec7-fd71-4f5a-f705-d2020d58590e"
      },
      "outputs": [
        {
          "output_type": "execute_result",
          "data": {
            "text/plain": [
              "{'0_normal': 0, '2_polyps': 1}"
            ]
          },
          "metadata": {},
          "execution_count": 7
        }
      ],
      "source": [
        "train_generator.class_indices"
      ]
    },
    {
      "cell_type": "code",
      "execution_count": 8,
      "metadata": {
        "colab": {
          "base_uri": "https://localhost:8080/"
        },
        "id": "fla19OA7lP6R",
        "outputId": "94f5561e-6fd6-493d-ba2e-bf5d54513bdc"
      },
      "outputs": [
        {
          "output_type": "stream",
          "name": "stdout",
          "text": [
            "Model: \"sequential\"\n",
            "_________________________________________________________________\n",
            " Layer (type)                Output Shape              Param #   \n",
            "=================================================================\n",
            " vgg16 (Functional)          (None, 7, 7, 512)         14714688  \n",
            "                                                                 \n",
            " gaussian_noise (GaussianNo  (None, 7, 7, 512)         0         \n",
            " ise)                                                            \n",
            "                                                                 \n",
            " global_average_pooling2d (  (None, 512)               0         \n",
            " GlobalAveragePooling2D)                                         \n",
            "                                                                 \n",
            " dense (Dense)               (None, 256)               131328    \n",
            "                                                                 \n",
            " batch_normalization (Batch  (None, 256)               1024      \n",
            " Normalization)                                                  \n",
            "                                                                 \n",
            " gaussian_noise_1 (Gaussian  (None, 256)               0         \n",
            " Noise)                                                          \n",
            "                                                                 \n",
            " dropout (Dropout)           (None, 256)               0         \n",
            "                                                                 \n",
            " dense_1 (Dense)             (None, 2)                 514       \n",
            "                                                                 \n",
            "=================================================================\n",
            "Total params: 14847554 (56.64 MB)\n",
            "Trainable params: 132354 (517.01 KB)\n",
            "Non-trainable params: 14715200 (56.13 MB)\n",
            "_________________________________________________________________\n"
          ]
        }
      ],
      "source": [
        "import tensorflow as tf\n",
        "from tensorflow.keras.models import load_model\n",
        "\n",
        "# Carregar o modelo\n",
        "model = load_model('/content/drive/MyDrive/[02] UTAD/[01] 2023_2024/[04] Artigo HCIST/Modelos/VGG16_trained.h5')\n",
        "\n",
        "# Imprimir a estrutura do modelo\n",
        "model.summary()\n"
      ]
    },
    {
      "cell_type": "code",
      "execution_count": 9,
      "metadata": {
        "colab": {
          "base_uri": "https://localhost:8080/",
          "height": 335
        },
        "id": "RH6MpHyQv6kk",
        "outputId": "3beb0245-ff43-4ea4-9bdb-7185028f8015"
      },
      "outputs": [
        {
          "output_type": "stream",
          "name": "stdout",
          "text": [
            "25/25 [==============================] - 284s 11s/step - loss: 0.2555 - accuracy: 0.9050 - precision: 0.9050 - recall: 0.9050 - auc: 0.9763\n",
            "Perda de Validação: 0.255454421043396\n",
            "Acurácia de Validação: 90.50%\n",
            "Precisão de Validação: 90.50%\n",
            "Recall de Validação: 90.50%\n",
            "AUC de Validação: 0.9763437509536743\n",
            "25/25 [==============================] - 291s 11s/step\n"
          ]
        },
        {
          "output_type": "error",
          "ename": "NameError",
          "evalue": "name 'accuracy_score' is not defined",
          "traceback": [
            "\u001b[0;31m---------------------------------------------------------------------------\u001b[0m",
            "\u001b[0;31mNameError\u001b[0m                                 Traceback (most recent call last)",
            "\u001b[0;32m<ipython-input-9-01ec9bd66281>\u001b[0m in \u001b[0;36m<cell line: 16>\u001b[0;34m()\u001b[0m\n\u001b[1;32m     14\u001b[0m \u001b[0mpredictions\u001b[0m \u001b[0;34m=\u001b[0m \u001b[0mmodel\u001b[0m\u001b[0;34m.\u001b[0m\u001b[0mpredict\u001b[0m\u001b[0;34m(\u001b[0m\u001b[0mtest_generator\u001b[0m\u001b[0;34m,\u001b[0m \u001b[0msteps\u001b[0m\u001b[0;34m=\u001b[0m\u001b[0mlen\u001b[0m\u001b[0;34m(\u001b[0m\u001b[0mtest_generator\u001b[0m\u001b[0;34m)\u001b[0m\u001b[0;34m)\u001b[0m\u001b[0;34m\u001b[0m\u001b[0;34m\u001b[0m\u001b[0m\n\u001b[1;32m     15\u001b[0m \u001b[0mpredicted_classes\u001b[0m \u001b[0;34m=\u001b[0m \u001b[0mnp\u001b[0m\u001b[0;34m.\u001b[0m\u001b[0margmax\u001b[0m\u001b[0;34m(\u001b[0m\u001b[0mpredictions\u001b[0m\u001b[0;34m,\u001b[0m \u001b[0maxis\u001b[0m\u001b[0;34m=\u001b[0m\u001b[0;36m1\u001b[0m\u001b[0;34m)\u001b[0m\u001b[0;34m\u001b[0m\u001b[0;34m\u001b[0m\u001b[0m\n\u001b[0;32m---> 16\u001b[0;31m \u001b[0maccuracy\u001b[0m \u001b[0;34m=\u001b[0m \u001b[0maccuracy_score\u001b[0m\u001b[0;34m(\u001b[0m\u001b[0mtrue_classes\u001b[0m\u001b[0;34m,\u001b[0m \u001b[0mpredicted_classes\u001b[0m\u001b[0;34m)\u001b[0m\u001b[0;34m\u001b[0m\u001b[0;34m\u001b[0m\u001b[0m\n\u001b[0m\u001b[1;32m     17\u001b[0m \u001b[0mprint\u001b[0m\u001b[0;34m(\u001b[0m\u001b[0;34mf\"Acurácia calculada: {accuracy * 100:.2f}%\"\u001b[0m\u001b[0;34m)\u001b[0m\u001b[0;34m\u001b[0m\u001b[0;34m\u001b[0m\u001b[0m\n",
            "\u001b[0;31mNameError\u001b[0m: name 'accuracy_score' is not defined"
          ]
        }
      ],
      "source": [
        "test_generator.reset()\n",
        "results = model.evaluate(test_generator, steps=len(test_generator))\n",
        "\n",
        "print(f\"Perda de Validação: {results[0]}\")\n",
        "print(f\"Acurácia de Validação: {results[1] * 100:.2f}%\")\n",
        "print(f\"Precisão de Validação: {results[2] * 100:.2f}%\")\n",
        "print(f\"Recall de Validação: {results[3] * 100:.2f}%\")\n",
        "print(f\"AUC de Validação: {results[4]}\")\n",
        "\n",
        "test_generator.reset()\n",
        "\n",
        "true_classes = test_generator.classes\n",
        "\n",
        "predictions = model.predict(test_generator, steps=len(test_generator))\n",
        "predicted_classes = np.argmax(predictions, axis=1)\n",
        "accuracy = accuracy_score(true_classes, predicted_classes)\n",
        "print(f\"Acurácia calculada: {accuracy * 100:.2f}%\")\n"
      ]
    },
    {
      "cell_type": "code",
      "execution_count": 11,
      "metadata": {
        "id": "1GoTUdw-veM_",
        "colab": {
          "base_uri": "https://localhost:8080/",
          "height": 159
        },
        "outputId": "ca82d68f-5ae4-4cc7-9806-cacc14f9e003"
      },
      "outputs": [
        {
          "output_type": "error",
          "ename": "NameError",
          "evalue": "name 'accuracy_score' is not defined",
          "traceback": [
            "\u001b[0;31m---------------------------------------------------------------------------\u001b[0m",
            "\u001b[0;31mNameError\u001b[0m                                 Traceback (most recent call last)",
            "\u001b[0;32m<ipython-input-11-c0517d5378f4>\u001b[0m in \u001b[0;36m<cell line: 1>\u001b[0;34m()\u001b[0m\n\u001b[0;32m----> 1\u001b[0;31m \u001b[0maccuracy\u001b[0m \u001b[0;34m=\u001b[0m \u001b[0maccuracy_score\u001b[0m\u001b[0;34m(\u001b[0m\u001b[0mtrue_classes\u001b[0m\u001b[0;34m,\u001b[0m \u001b[0mpredicted_classes\u001b[0m\u001b[0;34m)\u001b[0m\u001b[0;34m\u001b[0m\u001b[0;34m\u001b[0m\u001b[0m\n\u001b[0m\u001b[1;32m      2\u001b[0m \u001b[0mprint\u001b[0m\u001b[0;34m(\u001b[0m\u001b[0;34mf\"Acurácia calculada: {accuracy * 100:.2f}%\"\u001b[0m\u001b[0;34m)\u001b[0m\u001b[0;34m\u001b[0m\u001b[0;34m\u001b[0m\u001b[0m\n",
            "\u001b[0;31mNameError\u001b[0m: name 'accuracy_score' is not defined"
          ]
        }
      ],
      "source": [
        "accuracy = accuracy_score(true_classes, predicted_classes)\n",
        "print(f\"Acurácia calculada: {accuracy * 100:.2f}%\")\n"
      ]
    },
    {
      "cell_type": "code",
      "execution_count": null,
      "metadata": {
        "id": "q7gOvmAg0ZSl"
      },
      "outputs": [],
      "source": [
        "import numpy as np\n",
        "import matplotlib.pyplot as plt\n",
        "from sklearn.metrics import accuracy_score, classification_report\n",
        "from tensorflow.keras.preprocessing.image import load_img, img_to_array\n",
        "\n",
        "# Encontrar índices das previsões incorretas\n",
        "incorrects = np.nonzero(predicted_classes != true_classes)[0]\n",
        "\n",
        "# Obter caminhos das imagens incorretas\n",
        "if len(incorrects) > 0:\n",
        "    incorrect_images = [test_generator.filepaths[i] for i in incorrects]\n",
        "else:\n",
        "    print(\"Não há imagens classificadas incorretamente.\")\n",
        "    incorrect_images = []\n"
      ]
    },
    {
      "cell_type": "code",
      "execution_count": null,
      "metadata": {
        "id": "SonKcd691hn3"
      },
      "outputs": [],
      "source": [
        "type(incorrect_images)"
      ]
    },
    {
      "cell_type": "code",
      "execution_count": null,
      "metadata": {
        "id": "GJP75TYa0dRW"
      },
      "outputs": [],
      "source": [
        "len(incorrect_images)"
      ]
    },
    {
      "cell_type": "code",
      "execution_count": null,
      "metadata": {
        "id": "cdRXAK850n6E"
      },
      "outputs": [],
      "source": [
        "import matplotlib.pyplot as plt\n",
        "from tensorflow.keras.preprocessing.image import load_img\n",
        "\n",
        "# Encontrar os índices das previsões incorretas\n",
        "incorrect_indices = np.nonzero(predicted_classes != true_classes)[0]\n",
        "\n",
        "# Obter os caminhos das imagens e as previsões/classes reais correspondentes\n",
        "incorrect_images = [test_generator.filepaths[i] for i in incorrect_indices]\n",
        "predicted_labels = [predicted_classes[i] for i in incorrect_indices]\n",
        "true_labels = [true_classes[i] for i in incorrect_indices]\n",
        "\n",
        "# Ajustar o número de imagens para mostrar\n",
        "num_images_to_show = min(len(incorrect_images), 10)\n",
        "\n",
        "# Mapeamento de índices para nomes de classes\n",
        "class_names = {v: k for k, v in test_generator.class_indices.items()}\n",
        "\n",
        "# Plotar as imagens\n",
        "fig, axes = plt.subplots(nrows=1, ncols=num_images_to_show, figsize=(20, 2 * num_images_to_show))\n",
        "if num_images_to_show > 1:\n",
        "    for ax, img_path, pred, true in zip(axes.flatten(), incorrect_images[:num_images_to_show], predicted_labels[:num_images_to_show], true_labels[:num_images_to_show]):\n",
        "        img = load_img(img_path, target_size=(224, 224))\n",
        "        ax.imshow(img)\n",
        "        ax.set_title(f\"Pred:({pred}), True:({true})\")\n",
        "        ax.axis('off')\n",
        "else:  # Se houver apenas uma imagem para mostrar\n",
        "    ax = axes\n",
        "    img = load_img(incorrect_images[0], target_size=(224, 224))\n",
        "    ax.imshow(img)\n",
        "    ax.set_title(f\"Pred: {class_names[predicted_labels[0]]} ({predicted_labels[0]}), True: {class_names[true_labels[0]]} ({true_labels[0]})\\nPath: {incorrect_images[0]}\")\n",
        "    ax.axis('off')\n",
        "\n",
        "plt.tight_layout()\n",
        "plt.show()\n"
      ]
    },
    {
      "cell_type": "code",
      "execution_count": null,
      "metadata": {
        "id": "2cdhX90-1x8D"
      },
      "outputs": [],
      "source": [
        "import matplotlib.pyplot as plt\n",
        "from tensorflow.keras.preprocessing.image import load_img\n",
        "\n",
        "# Encontrar os índices das previsões corretas\n",
        "correct_indices = np.nonzero(predicted_classes == true_classes)[0]\n",
        "\n",
        "# Obter os caminhos das imagens e as previsões/classes reais correspondentes\n",
        "correct_images = [test_generator.filepaths[i] for i in correct_indices]\n",
        "predicted_labels = [predicted_classes[i] for i in correct_indices]\n",
        "true_labels = [true_classes[i] for i in correct_indices]\n",
        "\n",
        "# Ajustar o número de imagens para mostrar\n",
        "num_images_to_show = min(len(correct_images), 10)\n",
        "\n",
        "# Mapeamento de índices para nomes de classes\n",
        "class_names = {v: k for k, v in test_generator.class_indices.items()}\n",
        "\n",
        "# Plotar as imagens\n",
        "fig, axes = plt.subplots(nrows=1, ncols=num_images_to_show, figsize=(20, 2 * num_images_to_show))\n",
        "if num_images_to_show > 1:\n",
        "    for ax, img_path, pred, true in zip(axes.flatten(), correct_images[:num_images_to_show], predicted_labels[:num_images_to_show], true_labels[:num_images_to_show]):\n",
        "        img = load_img(img_path, target_size=(224, 224))\n",
        "        ax.imshow(img)\n",
        "        ax.set_title(f\"Pred: ({pred}), True: ({true})\")\n",
        "        ax.axis('off')\n",
        "else:  # Se houver apenas uma imagem para mostrar\n",
        "    ax = axes\n",
        "    img = load_img(correct_images[0], target_size=(224, 224))\n",
        "    ax.imshow(img)\n",
        "    ax.set_title(f\"Pred:({predicted_labels[0]}), True:({true_labels[0]})\")\n",
        "    ax.axis('off')\n",
        "\n",
        "plt.tight_layout()\n",
        "plt.show()\n"
      ]
    },
    {
      "cell_type": "code",
      "execution_count": null,
      "metadata": {
        "id": "oqCM_ZUm23B7"
      },
      "outputs": [],
      "source": [
        "import matplotlib.pyplot as plt\n",
        "from tensorflow.keras.preprocessing.image import load_img\n",
        "\n",
        "# Encontrar os índices das previsões corretas da classe 1\n",
        "correct_class1_indices = [idx for idx in np.nonzero(predicted_classes == true_classes)[0] if true_classes[idx] == 1]\n",
        "\n",
        "# Obter os caminhos das imagens e as previsões/classes reais correspondentes da classe 1\n",
        "correct_class1_images = [test_generator.filepaths[i] for i in correct_class1_indices]\n",
        "predicted_class1_labels = [predicted_classes[i] for i in correct_class1_indices]\n",
        "true_class1_labels = [true_classes[i] for i in correct_class1_indices]\n",
        "\n",
        "# Ajustar o número de imagens para mostrar\n",
        "num_images_to_show = min(len(correct_class1_images), 10)\n",
        "\n",
        "# Mapeamento de índices para nomes de classes\n",
        "class_names = {v: k for k, v in test_generator.class_indices.items()}\n",
        "\n",
        "# Plotar as imagens\n",
        "fig, axes = plt.subplots(nrows=1, ncols=num_images_to_show, figsize=(20, 2 * num_images_to_show))\n",
        "if num_images_to_show > 1:\n",
        "    for ax, img_path, pred, true in zip(axes.flatten(), correct_class1_images[:num_images_to_show], predicted_class1_labels[:num_images_to_show], true_class1_labels[:num_images_to_show]):\n",
        "        img = load_img(img_path, target_size=(224, 224))\n",
        "        ax.imshow(img)\n",
        "        ax.set_title(f\"Pred:({pred}), True:({true})\")\n",
        "        ax.axis('off')\n",
        "elif num_images_to_show == 1:  # Se houver apenas uma imagem para mostrar\n",
        "    ax = axes\n",
        "    img = load_img(correct_class1_images[0], target_size=(224, 224))\n",
        "    ax.imshow(img)\n",
        "    ax.set_title(f\"Pred:({predicted_class1_labels[0]}), True:({true_class1_labels[0]})\")\n",
        "    ax.axis('off')\n",
        "else:\n",
        "    print(\"Não há imagens corretas da classe 1 para exibir.\")\n",
        "\n",
        "plt.tight_layout()\n",
        "plt.show()\n"
      ]
    },
    {
      "cell_type": "code",
      "source": [
        "from alibi.explainers import AnchorImage"
      ],
      "metadata": {
        "id": "QzerRjrIzfbV"
      },
      "execution_count": null,
      "outputs": []
    },
    {
      "cell_type": "code",
      "source": [
        "image_path = '/content/data/test/2_polyps/test_polyps_ (1).jpg'"
      ],
      "metadata": {
        "id": "LmAtltmP3Fnd"
      },
      "execution_count": null,
      "outputs": []
    },
    {
      "cell_type": "code",
      "source": [
        "original_image = load_img(image_path, target_size = (224,224))"
      ],
      "metadata": {
        "id": "98AKbqCU3Kh4"
      },
      "execution_count": null,
      "outputs": []
    },
    {
      "cell_type": "code",
      "source": [
        "from tensorflow.keras.preprocessing.image import load_img, img_to_array\n",
        "image = img_to_array(original_image)"
      ],
      "metadata": {
        "id": "jICollrz3So5"
      },
      "execution_count": null,
      "outputs": []
    },
    {
      "cell_type": "code",
      "source": [
        "image = np.expand_dims(image, axis = 0)"
      ],
      "metadata": {
        "id": "8mdlytDw3dJq"
      },
      "execution_count": null,
      "outputs": []
    },
    {
      "cell_type": "code",
      "source": [
        "print(image[0].shape)"
      ],
      "metadata": {
        "colab": {
          "base_uri": "https://localhost:8080/"
        },
        "id": "8bzcSSpH6Z4L",
        "outputId": "7dbaa8ee-47f7-4822-bc17-58e4d488be7a"
      },
      "execution_count": null,
      "outputs": [
        {
          "output_type": "stream",
          "name": "stdout",
          "text": [
            "(224, 224, 3)\n"
          ]
        }
      ]
    },
    {
      "cell_type": "code",
      "source": [
        "preds = model.predict(image)"
      ],
      "metadata": {
        "colab": {
          "base_uri": "https://localhost:8080/"
        },
        "id": "kHp3QB6o3lht",
        "outputId": "d333ead0-9aa2-4e1c-e215-ad8338db20ca"
      },
      "execution_count": null,
      "outputs": [
        {
          "output_type": "stream",
          "name": "stdout",
          "text": [
            "1/1 [==============================] - 0s 378ms/step\n"
          ]
        }
      ]
    },
    {
      "cell_type": "code",
      "source": [
        "previsao = np.argmax(preds, axis = 1)"
      ],
      "metadata": {
        "id": "LR-eG_cw3o9_"
      },
      "execution_count": null,
      "outputs": []
    },
    {
      "cell_type": "code",
      "source": [
        "print(previsao)"
      ],
      "metadata": {
        "colab": {
          "base_uri": "https://localhost:8080/"
        },
        "id": "E3pIiCYZ3u0o",
        "outputId": "a91cffe6-aa50-474b-dcc0-6df6d06a052a"
      },
      "execution_count": null,
      "outputs": [
        {
          "output_type": "stream",
          "name": "stdout",
          "text": [
            "[1]\n"
          ]
        }
      ]
    },
    {
      "cell_type": "code",
      "source": [
        "explainer = AnchorImage(\n",
        "    predictor=lambda x: model.predict(x),\n",
        "    image_shape=(224, 224, 3),  # Ajuste conforme o necessário\n",
        "    segmentation_fn='slic',\n",
        "    segmentation_kwargs={'n_segments': 15, 'compactness': 20, 'sigma': 0.5}\n",
        ")"
      ],
      "metadata": {
        "colab": {
          "base_uri": "https://localhost:8080/"
        },
        "id": "8_gEs4cy3xg4",
        "outputId": "b4e3f307-3e1f-4952-b877-9c179201582c"
      },
      "execution_count": null,
      "outputs": [
        {
          "output_type": "stream",
          "name": "stdout",
          "text": [
            "1/1 [==============================] - 0s 481ms/step\n"
          ]
        }
      ]
    },
    {
      "cell_type": "code",
      "source": [
        "explanation = explainer.explain(image[0], threshold=0.95, p_sample=0.5, tau=0.25)"
      ],
      "metadata": {
        "colab": {
          "base_uri": "https://localhost:8080/"
        },
        "id": "q8bQdV4w30tJ",
        "outputId": "7c52a339-c668-4d08-9f1b-ca524ddb3032"
      },
      "execution_count": null,
      "outputs": [
        {
          "output_type": "stream",
          "name": "stdout",
          "text": [
            "1/1 [==============================] - 0s 370ms/step\n",
            "4/4 [==============================] - 39s 9s/step\n",
            "4/4 [==============================] - 39s 9s/step\n",
            "4/4 [==============================] - 39s 9s/step\n",
            "4/4 [==============================] - 38s 9s/step\n",
            "4/4 [==============================] - 39s 9s/step\n",
            "4/4 [==============================] - 38s 9s/step\n",
            "4/4 [==============================] - 44s 11s/step\n",
            "4/4 [==============================] - 39s 9s/step\n",
            "4/4 [==============================] - 39s 9s/step\n",
            "4/4 [==============================] - 38s 9s/step\n",
            "4/4 [==============================] - 39s 9s/step\n"
          ]
        }
      ]
    },
    {
      "cell_type": "code",
      "source": [
        "# Visualizar a explicação\n",
        "plt.imshow(explanation.anchor)\n",
        "plt.title(f'Anchor for class {previsao}')\n",
        "plt.show()"
      ],
      "metadata": {
        "colab": {
          "base_uri": "https://localhost:8080/"
        },
        "id": "fbGxUHPM32p2",
        "outputId": "d0d7e15a-1259-489a-a0b7-212b0fd85dfa"
      },
      "execution_count": null,
      "outputs": [
        {
          "output_type": "display_data",
          "data": {
            "text/plain": [
              "<Figure size 640x480 with 1 Axes>"
            ],
            "image/png": "[encoded data removed]"
          },
          "metadata": {}
        }
      ]
    },
    {
      "cell_type": "code",
      "source": [
        "plt.imshow(explanation.segments);"
      ],
      "metadata": {
        "colab": {
          "base_uri": "https://localhost:8080/"
        },
        "id": "13lZzQKv4vz2",
        "outputId": "ce163b9c-7b92-4ec1-8b20-b7c05b811fb4"
      },
      "execution_count": null,
      "outputs": [
        {
          "output_type": "display_data",
          "data": {
            "text/plain": [
              "<Figure size 640x480 with 1 Axes>"
            ],
            "image/png": "[encoded data removed]"
          },
          "metadata": {}
        }
      ]
    },
    {
      "cell_type": "code",
      "source": [
        "from tensorflow.keras.preprocessing.image import load_img, img_to_array\n",
        "import numpy as np\n",
        "\n",
        "#incorrect_indices = np.nonzero((true_classes == 1) & (predicted_classes == 0))[0]\n",
        "predicted_classes = np.argmax(predictions, axis=1)\n",
        "true_classes = test_generator.classes\n",
        "\n",
        "# Encontrar índices onde a classe verdadeira é 0 e a classe prevista também é 0\n",
        "correct_indices_0 = np.nonzero((true_classes == 0) & (predicted_classes == 0))[0]\n",
        "\n",
        "# Encontrar índices onde a classe verdadeira é 1 e a classe prevista também é 1\n",
        "correct_indices_1 = np.nonzero((true_classes == 1) & (predicted_classes == 1))[0]\n",
        "\n",
        "# Encontrar índices onde a classe verdadeira é 0 e a classe prevista é 1\n",
        "incorrect_indices_0_predicted_1 = np.nonzero((true_classes == 0) & (predicted_classes == 1))[0]\n",
        "\n",
        "# Encontrar índices onde a classe verdadeira é 1 e a classe prevista é 0\n",
        "incorrect_indices_1_predicted_0 = np.nonzero((true_classes == 1) & (predicted_classes == 0))[0]"
      ],
      "metadata": {
        "id": "ayWHTNptxrl8"
      },
      "execution_count": 10,
      "outputs": []
    },
    {
      "cell_type": "code",
      "source": [
        "correct_images_0 = [test_generator.filepaths[i] for i in correct_indices_0]\n",
        "\n",
        "selected_images_paths = correct_images_0[:3]\n",
        "\n",
        "images_arrays = []\n",
        "for img_path in selected_images_paths:\n",
        "    img = load_img(img_path, target_size=(224, 224))  # Assumindo que você quer redimensionar para 224x224\n",
        "    img_array = img_to_array(img)\n",
        "    images_arrays.append(img_array)\n",
        "\n",
        "images_arrays = np.array(images_arrays)\n",
        "\n",
        "pred1 = model.predict(image[0])\n",
        "pred2 = model.predict(image[1])\n",
        "pred3 = model.predict(image[2])\n",
        "\n",
        "previsao1 = np.argmax(pred1, axis = 1)\n",
        "previsao2 = np.argmax(pred2, axis = 1)\n",
        "previsao3 = np.argmax(pred3, axis = 1)\n",
        "\n",
        "print(previsao1)\n",
        "print(previsao2)\n",
        "print(previsao3)\n",
        "\n",
        "explanation1 = explainer.explain(image[0], threshold=0.95, p_sample=0.5, tau=0.25)\n",
        "explanation2 = explainer.explain(image[1], threshold=0.95, p_sample=0.5, tau=0.25)\n",
        "explanation3 = explainer.explain(image[2], threshold=0.95, p_sample=0.5, tau=0.25)\n",
        "\n",
        "# Visualizar a explicação\n",
        "plt.imshow(explanation1.anchor)\n",
        "plt.title(f'Anchor for class {previsao}')\n",
        "plt.show()\n",
        "\n",
        "# Visualizar a explicação\n",
        "plt.imshow(explanation2.anchor)\n",
        "plt.title(f'Anchor for class {previsao}')\n",
        "plt.show()\n",
        "\n",
        "# Visualizar a explicação\n",
        "plt.imshow(explanation3.anchor)\n",
        "plt.title(f'Anchor for class {previsao}')\n",
        "plt.show()\n",
        "\n",
        "plt.imshow(explanation1.segments);\n",
        "\n",
        "plt.imshow(explanation2.segments);\n",
        "\n",
        "plt.imshow(explanation3.segments);\n"
      ],
      "metadata": {
        "colab": {
          "base_uri": "https://localhost:8080/",
          "height": 228
        },
        "id": "gH-EO8Sg0IFR",
        "outputId": "ab7388a1-7c68-4ba5-c2b8-2b2f76a26f9c"
      },
      "execution_count": 21,
      "outputs": [
        {
          "output_type": "error",
          "ename": "NameError",
          "evalue": "name 'load_img' is not defined",
          "traceback": [
            "\u001b[0;31m---------------------------------------------------------------------------\u001b[0m",
            "\u001b[0;31mNameError\u001b[0m                                 Traceback (most recent call last)",
            "\u001b[0;32m<ipython-input-21-4fcefd882679>\u001b[0m in \u001b[0;36m<cell line: 6>\u001b[0;34m()\u001b[0m\n\u001b[1;32m      5\u001b[0m \u001b[0mimages_arrays\u001b[0m \u001b[0;34m=\u001b[0m \u001b[0;34m[\u001b[0m\u001b[0;34m]\u001b[0m\u001b[0;34m\u001b[0m\u001b[0;34m\u001b[0m\u001b[0m\n\u001b[1;32m      6\u001b[0m \u001b[0;32mfor\u001b[0m \u001b[0mimg_path\u001b[0m \u001b[0;32min\u001b[0m \u001b[0mselected_images_paths\u001b[0m\u001b[0;34m:\u001b[0m\u001b[0;34m\u001b[0m\u001b[0;34m\u001b[0m\u001b[0m\n\u001b[0;32m----> 7\u001b[0;31m     \u001b[0mimg\u001b[0m \u001b[0;34m=\u001b[0m \u001b[0mload_img\u001b[0m\u001b[0;34m(\u001b[0m\u001b[0mimg_path\u001b[0m\u001b[0;34m,\u001b[0m \u001b[0mtarget_size\u001b[0m\u001b[0;34m=\u001b[0m\u001b[0;34m(\u001b[0m\u001b[0;36m224\u001b[0m\u001b[0;34m,\u001b[0m \u001b[0;36m224\u001b[0m\u001b[0;34m)\u001b[0m\u001b[0;34m)\u001b[0m  \u001b[0;31m# Assumindo que você quer redimensionar para 224x224\u001b[0m\u001b[0;34m\u001b[0m\u001b[0;34m\u001b[0m\u001b[0m\n\u001b[0m\u001b[1;32m      8\u001b[0m     \u001b[0mimg_array\u001b[0m \u001b[0;34m=\u001b[0m \u001b[0mimg_to_array\u001b[0m\u001b[0;34m(\u001b[0m\u001b[0mimg\u001b[0m\u001b[0;34m)\u001b[0m\u001b[0;34m\u001b[0m\u001b[0;34m\u001b[0m\u001b[0m\n\u001b[1;32m      9\u001b[0m     \u001b[0mimages_arrays\u001b[0m\u001b[0;34m.\u001b[0m\u001b[0mappend\u001b[0m\u001b[0;34m(\u001b[0m\u001b[0mimg_array\u001b[0m\u001b[0;34m)\u001b[0m\u001b[0;34m\u001b[0m\u001b[0;34m\u001b[0m\u001b[0m\n",
            "\u001b[0;31mNameError\u001b[0m: name 'load_img' is not defined"
          ]
        }
      ]
    },
    {
      "cell_type": "code",
      "source": [
        "correct_images_1 = [test_generator.filepaths[i] for i in correct_indices_1]"
      ],
      "metadata": {
        "id": "r1VKOmYv0Mpo"
      },
      "execution_count": 15,
      "outputs": []
    },
    {
      "cell_type": "code",
      "source": [
        "incorrect_images_0_predicted_1 = [test_generator.filepaths[i] for i in incorrect_indices_0_predicted_1]"
      ],
      "metadata": {
        "id": "4aC-ntPz0MjV"
      },
      "execution_count": 16,
      "outputs": []
    },
    {
      "cell_type": "code",
      "source": [
        "incorrect_images_1_predicted_0 = [test_generator.filepaths[i] for i in incorrect_indices_1_predicted_0]"
      ],
      "metadata": {
        "id": "_njNS19b0McC"
      },
      "execution_count": 17,
      "outputs": []
    }
  ],
  "metadata": {
    "accelerator": "GPU",
    "colab": {
      "gpuType": "T4",
      "provenance": []
    },
    "kernelspec": {
      "display_name": "Python 3",
      "name": "python3"
    },
    "language_info": {
      "name": "python"
    }
  },
  "nbformat": 4,
  "nbformat_minor": 0
}